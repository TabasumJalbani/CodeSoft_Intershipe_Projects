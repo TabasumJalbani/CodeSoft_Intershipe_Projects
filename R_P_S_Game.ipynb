{
 "cells": [
  {
   "cell_type": "code",
   "execution_count": 1,
   "id": "1173c820",
   "metadata": {},
   "outputs": [],
   "source": [
    "import tkinter as tk\n",
    "from tkinter import messagebox\n",
    "import random\n"
   ]
  },
  {
   "cell_type": "code",
   "execution_count": 2,
   "id": "261f13b2",
   "metadata": {},
   "outputs": [],
   "source": [
    "class RockPaperScissorsGame:\n",
    "    def __init__(self, root):\n",
    "        self.root = root\n",
    "        self.root.title(\"Rock-Paper-Scissors Game\")\n",
    "\n",
    "        self.user_score = 0\n",
    "        self.computer_score = 0\n",
    "\n",
    "        # GUI elements\n",
    "        self.user_choice_label = tk.Label(root, text=\"Choose rock, paper, or scissors:\")\n",
    "        self.user_choice_label.pack()\n",
    "\n",
    "        self.user_choice_entry = tk.Entry(root)\n",
    "        self.user_choice_entry.pack()\n",
    "\n",
    "        self.play_button = tk.Button(root, text=\"Play\", command=self.play_game)\n",
    "        self.play_button.pack()\n",
    "\n",
    "        self.result_label = tk.Label(root, text=\"\")\n",
    "        self.result_label.pack()\n",
    "\n",
    "        self.score_label = tk.Label(root, text=\"Score - You: 0 | Computer: 0\")\n",
    "        self.score_label.pack()\n",
    "\n",
    "    def get_user_choice(self):\n",
    "        return self.user_choice_entry.get().lower()\n",
    "\n",
    "    def get_computer_choice(self):\n",
    "        return random.choice(['rock', 'paper', 'scissors'])\n",
    "\n",
    "    def determine_winner(self, user_choice, computer_choice):\n",
    "        if user_choice == computer_choice:\n",
    "            return \"It's a tie!\"\n",
    "        elif (\n",
    "            (user_choice == 'rock' and computer_choice == 'scissors') or\n",
    "            (user_choice == 'scissors' and computer_choice == 'paper') or\n",
    "            (user_choice == 'paper' and computer_choice == 'rock')\n",
    "        ):\n",
    "            return \"You win!\"\n",
    "        else:\n",
    "            return \"You lose!\"\n",
    "\n",
    "    def display_result(self, user_choice, computer_choice, result):\n",
    "        self.result_label.config(text=f\"You chose: {user_choice}\\nComputer chose: {computer_choice}\\n{result}\")\n",
    "\n",
    "    def update_score_label(self):\n",
    "        self.score_label.config(text=f\"Score - You: {self.user_score} | Computer: {self.computer_score}\")\n",
    "\n",
    "    def play_game(self):\n",
    "        user_choice = self.get_user_choice()\n",
    "        if user_choice not in ['rock', 'paper', 'scissors']:\n",
    "            messagebox.showinfo(\"Invalid Choice\", \"Please choose rock, paper, or scissors.\")\n",
    "            return\n",
    "\n",
    "        computer_choice = self.get_computer_choice()\n",
    "        result = self.determine_winner(user_choice, computer_choice)\n",
    "        self.display_result(user_choice, computer_choice, result)\n",
    "\n",
    "        if 'win' in result:\n",
    "            self.user_score += 1\n",
    "        elif 'lose' in result:\n",
    "            self.computer_score += 1\n",
    "\n",
    "        self.update_score_label()\n",
    "\n",
    "        play_again = messagebox.askyesno(\"Play Again\", \"Do you want to play again?\")\n",
    "        if not play_again:\n",
    "            messagebox.showinfo(\"Thanks for playing!\", f\"Final Score - You: {self.user_score} | Computer: {self.computer_score}\")\n",
    "            self.root.destroy()\n",
    "\n"
   ]
  },
  {
   "cell_type": "code",
   "execution_count": 3,
   "id": "faa9c146",
   "metadata": {},
   "outputs": [],
   "source": [
    "if __name__ == \"__main__\":\n",
    "    root = tk.Tk()\n",
    "    app = RockPaperScissorsGame(root)\n",
    "    root.mainloop()\n"
   ]
  },
  {
   "cell_type": "code",
   "execution_count": null,
   "id": "081f96f4",
   "metadata": {},
   "outputs": [],
   "source": [
    " "
   ]
  },
  {
   "cell_type": "code",
   "execution_count": null,
   "id": "38abe167",
   "metadata": {},
   "outputs": [],
   "source": []
  }
 ],
 "metadata": {
  "kernelspec": {
   "display_name": "Python 3 (ipykernel)",
   "language": "python",
   "name": "python3"
  },
  "language_info": {
   "codemirror_mode": {
    "name": "ipython",
    "version": 3
   },
   "file_extension": ".py",
   "mimetype": "text/x-python",
   "name": "python",
   "nbconvert_exporter": "python",
   "pygments_lexer": "ipython3",
   "version": "3.11.5"
  }
 },
 "nbformat": 4,
 "nbformat_minor": 5
}
